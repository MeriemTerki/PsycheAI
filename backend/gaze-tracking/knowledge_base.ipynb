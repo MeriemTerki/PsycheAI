{
 "cells": [
  {
   "cell_type": "code",
   "execution_count": 1,
   "id": "ae92711e",
   "metadata": {},
   "outputs": [
    {
     "name": "stderr",
     "output_type": "stream",
     "text": [
      "\n",
      "[notice] A new release of pip available: 22.3 -> 25.0.1\n",
      "[notice] To update, run: C:\\Users\\mrmte\\AppData\\Local\\Programs\\Python\\Python311\\python.exe -m pip install --upgrade pip\n"
     ]
    }
   ],
   "source": [
    "! pip install -qU pinecone-client langchain_community cohere PyMuPDF"
   ]
  },
  {
   "cell_type": "code",
   "execution_count": 2,
   "id": "0d356416",
   "metadata": {},
   "outputs": [
    {
     "name": "stderr",
     "output_type": "stream",
     "text": [
      "WARNING: Skipping pypdf as it is not installed.\n",
      "WARNING: Skipping PyPDF2 as it is not installed.\n"
     ]
    },
    {
     "name": "stdout",
     "output_type": "stream",
     "text": [
      "Files removed: 4\n"
     ]
    }
   ],
   "source": [
    "! pip uninstall pypdf PyPDF2 -y\n",
    "! pip cache purge"
   ]
  },
  {
   "cell_type": "code",
   "execution_count": 3,
   "id": "2297d6a6",
   "metadata": {},
   "outputs": [
    {
     "name": "stdout",
     "output_type": "stream",
     "text": [
      "Collecting PyPDF2\n",
      "  Downloading pypdf2-3.0.1-py3-none-any.whl.metadata (6.8 kB)\n",
      "Downloading pypdf2-3.0.1-py3-none-any.whl (232 kB)\n",
      "Installing collected packages: PyPDF2\n",
      "  Attempting uninstall: PyPDF2\n",
      "    Found existing installation: PyPDF2 3.0.1\n",
      "    Uninstalling PyPDF2-3.0.1:\n",
      "      Successfully uninstalled PyPDF2-3.0.1\n",
      "Successfully installed PyPDF2-3.0.1\n"
     ]
    },
    {
     "name": "stderr",
     "output_type": "stream",
     "text": [
      "WARNING: Ignoring invalid distribution -atplotlib (c:\\users\\mrmte\\appdata\\local\\programs\\python\\python310\\lib\\site-packages)\n",
      "WARNING: Ignoring invalid distribution -atplotlib (c:\\users\\mrmte\\appdata\\local\\programs\\python\\python310\\lib\\site-packages)\n",
      "WARNING: Ignoring invalid distribution -atplotlib (c:\\users\\mrmte\\appdata\\local\\programs\\python\\python310\\lib\\site-packages)\n",
      "\n",
      "[notice] A new release of pip is available: 24.3.1 -> 25.0.1\n",
      "[notice] To update, run: python.exe -m pip install --upgrade pip\n"
     ]
    }
   ],
   "source": [
    "import sys\n",
    "!{sys.executable} -m pip install PyPDF2 --upgrade --force-reinstall"
   ]
  },
  {
   "cell_type": "code",
   "execution_count": 4,
   "id": "813a9acb",
   "metadata": {},
   "outputs": [
    {
     "name": "stdout",
     "output_type": "stream",
     "text": [
      "Name: PyPDF2\n",
      "Version: 3.0.1\n",
      "Summary: A pure-python PDF library capable of splitting, merging, cropping, and transforming PDF files\n",
      "Home-page: \n",
      "Author: \n",
      "Author-email: Mathieu Fenniak <biziqe@mathieu.fenniak.net>\n",
      "License: \n",
      "Location: c:\\users\\mrmte\\appdata\\local\\programs\\python\\python310\\lib\\site-packages\n",
      "Requires: \n",
      "Required-by: \n"
     ]
    },
    {
     "name": "stderr",
     "output_type": "stream",
     "text": [
      "WARNING: Ignoring invalid distribution -atplotlib (c:\\users\\mrmte\\appdata\\local\\programs\\python\\python310\\lib\\site-packages)\n"
     ]
    }
   ],
   "source": [
    "!{sys.executable} -m pip show PyPDF2"
   ]
  },
  {
   "cell_type": "code",
   "execution_count": 5,
   "id": "50641c4b",
   "metadata": {},
   "outputs": [
    {
     "data": {
      "application/javascript": "IPython.notebook.kernel.restart()",
      "text/plain": [
       "<IPython.core.display.Javascript object>"
      ]
     },
     "metadata": {},
     "output_type": "display_data"
    }
   ],
   "source": [
    "from IPython.display import display, Javascript\n",
    "display(Javascript('IPython.notebook.kernel.restart()'))"
   ]
  },
  {
   "cell_type": "code",
   "execution_count": 6,
   "id": "87e32565",
   "metadata": {},
   "outputs": [
    {
     "name": "stdout",
     "output_type": "stream",
     "text": [
      "Success! PDF reader imported correctly\n"
     ]
    }
   ],
   "source": [
    "from PyPDF2 import PdfReader\n",
    "print(\"Success! PDF reader imported correctly\")"
   ]
  },
  {
   "cell_type": "code",
   "execution_count": 7,
   "id": "7bfa1e18",
   "metadata": {},
   "outputs": [
    {
     "name": "stdout",
     "output_type": "stream",
     "text": [
      "Test PDF has 1 pages\n"
     ]
    }
   ],
   "source": [
    "from PyPDF2 import PdfReader\n",
    "from io import BytesIO\n",
    "import requests\n",
    "\n",
    "# Test with a sample PDF\n",
    "pdf_url = \"https://www.w3.org/WAI/ER/tests/xhtml/testfiles/resources/pdf/dummy.pdf\"\n",
    "pdf_content = requests.get(pdf_url).content\n",
    "\n",
    "# Read the PDF\n",
    "reader = PdfReader(BytesIO(pdf_content))\n",
    "print(f\"Test PDF has {len(reader.pages)} pages\")"
   ]
  },
  {
   "cell_type": "code",
   "execution_count": 8,
   "id": "a46832f8",
   "metadata": {},
   "outputs": [],
   "source": [
    "\n",
    "import cohere\n",
    "from PyPDF2 import PdfReader\n",
    "from langchain.text_splitter import RecursiveCharacterTextSplitter, CharacterTextSplitter\n",
    "from pinecone import Pinecone, ServerlessSpec\n",
    "import os\n",
    "import getpass\n",
    "from langchain.schema import Document\n",
    "from langchain.embeddings import CohereEmbeddings\n",
    "from langchain_community.vectorstores import Pinecone as Pinecone_Langchain"
   ]
  },
  {
   "cell_type": "code",
   "execution_count": 11,
   "id": "3ffad0ef",
   "metadata": {},
   "outputs": [],
   "source": [
    "index = 'ai-agent'\n",
    "os.environ['PINECONE_API_KEY'] = pinecone_secret_key = getpass.getpass('Enter Pinecone secret key:')\n",
    "cohere_secret_key = getpass.getpass('Enter Cohere secret key:')"
   ]
  },
  {
   "cell_type": "code",
   "execution_count": 12,
   "id": "7141b086",
   "metadata": {},
   "outputs": [
    {
     "data": {
      "text/plain": [
       "{'deletion_protection': 'disabled',\n",
       " 'dimension': 4096,\n",
       " 'host': 'ai-agent-i4yi6bh.svc.aped-4627-b74a.pinecone.io',\n",
       " 'metric': 'cosine',\n",
       " 'name': 'ai-agent',\n",
       " 'spec': {'serverless': {'cloud': 'aws', 'region': 'us-east-1'}},\n",
       " 'status': {'ready': True, 'state': 'Ready'}}"
      ]
     },
     "execution_count": 12,
     "metadata": {},
     "output_type": "execute_result"
    }
   ],
   "source": [
    "pc = Pinecone(api_key=pinecone_secret_key)\n",
    "if index not in pc.list_indexes().names():\n",
    "  pc.create_index(\n",
    "    name = index,\n",
    "    dimension = 1024,\n",
    "    metric = 'cosine',\n",
    "    spec=ServerlessSpec(\n",
    "      cloud=\"aws\",\n",
    "      region=\"us-east-1\"\n",
    "      )\n",
    "  )\n",
    "pc.describe_index(index)"
   ]
  },
  {
   "cell_type": "code",
   "execution_count": 13,
   "id": "b9208775",
   "metadata": {},
   "outputs": [],
   "source": [
    "# Each document will have a size of 700 or less\n",
    "character_text_splitter = CharacterTextSplitter(\n",
    "    chunk_size = 700,\n",
    "    chunk_overlap  = 200,\n",
    "    length_function = len,\n",
    "    is_separator_regex=False,\n",
    ")\n",
    "recursive_text_splitter = RecursiveCharacterTextSplitter(\n",
    "    chunk_size = 700,\n",
    "    chunk_overlap  = 200,\n",
    "    length_function = len,\n",
    "    is_separator_regex=False,\n",
    ")"
   ]
  },
  {
   "cell_type": "markdown",
   "id": "c9371593",
   "metadata": {},
   "source": [
    "### PDFs"
   ]
  },
  {
   "cell_type": "code",
   "execution_count": 14,
   "id": "29f4ccee",
   "metadata": {},
   "outputs": [
    {
     "name": "stdout",
     "output_type": "stream",
     "text": [
      "Requirement already satisfied: PyMuPDF in c:\\users\\mrmte\\appdata\\local\\programs\\python\\python311\\lib\\site-packages (1.25.5)\n"
     ]
    },
    {
     "name": "stderr",
     "output_type": "stream",
     "text": [
      "\n",
      "[notice] A new release of pip available: 22.3 -> 25.0.1\n",
      "[notice] To update, run: C:\\Users\\mrmte\\AppData\\Local\\Programs\\Python\\Python311\\python.exe -m pip install --upgrade pip\n"
     ]
    }
   ],
   "source": [
    "! pip install PyMuPDF"
   ]
  },
  {
   "cell_type": "code",
   "execution_count": 15,
   "id": "9710ac09",
   "metadata": {},
   "outputs": [
    {
     "name": "stdout",
     "output_type": "stream",
     "text": [
      "Name: PyMuPDF\n",
      "Version: 1.25.5\n",
      "Summary: A high performance Python library for data extraction, analysis, conversion & manipulation of PDF (and other) documents.\n",
      "Home-page: \n",
      "Author: Artifex\n",
      "Author-email: support@artifex.com\n",
      "License: Dual Licensed - GNU AFFERO GPL 3.0 or Artifex Commercial License\n",
      "Location: C:\\Users\\mrmte\\AppData\\Local\\Programs\\Python\\Python311\\Lib\\site-packages\n",
      "Requires: \n",
      "Required-by: \n"
     ]
    }
   ],
   "source": [
    "! pip show pymupdf"
   ]
  },
  {
   "cell_type": "code",
   "execution_count": 16,
   "id": "c1d41b6a",
   "metadata": {},
   "outputs": [
    {
     "name": "stdout",
     "output_type": "stream",
     "text": [
      "Requirement already satisfied: pymupdf in c:\\users\\mrmte\\appdata\\local\\programs\\python\\python310\\lib\\site-packages (1.25.5)\n"
     ]
    },
    {
     "name": "stderr",
     "output_type": "stream",
     "text": [
      "WARNING: Ignoring invalid distribution -atplotlib (c:\\users\\mrmte\\appdata\\local\\programs\\python\\python310\\lib\\site-packages)\n",
      "WARNING: Ignoring invalid distribution -atplotlib (c:\\users\\mrmte\\appdata\\local\\programs\\python\\python310\\lib\\site-packages)\n",
      "WARNING: Ignoring invalid distribution -atplotlib (c:\\users\\mrmte\\appdata\\local\\programs\\python\\python310\\lib\\site-packages)\n",
      "\n",
      "[notice] A new release of pip is available: 24.3.1 -> 25.0.1\n",
      "[notice] To update, run: python.exe -m pip install --upgrade pip\n"
     ]
    }
   ],
   "source": [
    "import sys\n",
    "!{sys.executable} -m pip install --upgrade pymupdf"
   ]
  },
  {
   "cell_type": "code",
   "execution_count": 17,
   "id": "63979447",
   "metadata": {},
   "outputs": [
    {
     "data": {
      "application/javascript": "IPython.notebook.kernel.restart()",
      "text/plain": [
       "<IPython.core.display.Javascript object>"
      ]
     },
     "metadata": {},
     "output_type": "display_data"
    }
   ],
   "source": [
    "from IPython.display import display, Javascript\n",
    "display(Javascript('IPython.notebook.kernel.restart()'))"
   ]
  },
  {
   "cell_type": "code",
   "execution_count": 18,
   "id": "08234551",
   "metadata": {},
   "outputs": [
    {
     "name": "stdout",
     "output_type": "stream",
     "text": [
      "Success! Fitz imported as 1.25.5\n"
     ]
    }
   ],
   "source": [
    "try:\n",
    "    import fitz\n",
    "    print(\"Success! Fitz imported as\", fitz.__version__)\n",
    "except ImportError:\n",
    "    print(\"Still not working - trying alternative approach...\")\n",
    "    import pymupdf as fitz\n",
    "    print(\"Success! pymupdf imported as\", fitz.__version__)"
   ]
  },
  {
   "cell_type": "code",
   "execution_count": 19,
   "id": "560eba7f",
   "metadata": {},
   "outputs": [
    {
     "name": "stderr",
     "output_type": "stream",
     "text": [
      "\n",
      "[notice] A new release of pip available: 22.3 -> 25.0.1\n",
      "[notice] To update, run: C:\\Users\\mrmte\\AppData\\Local\\Programs\\Python\\Python311\\python.exe -m pip install --upgrade pip\n"
     ]
    }
   ],
   "source": [
    "! pip install langchain-cohere langchain-community pymupdf pinecone-client --quiet"
   ]
  },
  {
   "cell_type": "code",
   "execution_count": 20,
   "id": "cf3bcf1d",
   "metadata": {},
   "outputs": [
    {
     "name": "stdout",
     "output_type": "stream",
     "text": [
      "Requirement already satisfied: langchain-cohere in c:\\users\\mrmte\\appdata\\local\\programs\\python\\python311\\lib\\site-packages (0.4.4)\n",
      "Requirement already satisfied: cohere<6.0,>=5.12.0 in c:\\users\\mrmte\\appdata\\local\\programs\\python\\python311\\lib\\site-packages (from langchain-cohere) (5.15.0)\n",
      "Requirement already satisfied: langchain-community<0.4.0,>=0.3.0 in c:\\users\\mrmte\\appdata\\local\\programs\\python\\python311\\lib\\site-packages (from langchain-cohere) (0.3.21)\n",
      "Requirement already satisfied: langchain-core<0.4.0,>=0.3.27 in c:\\users\\mrmte\\appdata\\local\\programs\\python\\python311\\lib\\site-packages (from langchain-cohere) (0.3.51)\n",
      "Requirement already satisfied: pydantic<3,>=2 in c:\\users\\mrmte\\appdata\\local\\programs\\python\\python311\\lib\\site-packages (from langchain-cohere) (2.11.3)\n",
      "Requirement already satisfied: types-pyyaml<7.0.0.0,>=6.0.12.20240917 in c:\\users\\mrmte\\appdata\\local\\programs\\python\\python311\\lib\\site-packages (from langchain-cohere) (6.0.12.20250402)\n",
      "Requirement already satisfied: fastavro<2.0.0,>=1.9.4 in c:\\users\\mrmte\\appdata\\local\\programs\\python\\python311\\lib\\site-packages (from cohere<6.0,>=5.12.0->langchain-cohere) (1.10.0)\n",
      "Requirement already satisfied: httpx>=0.21.2 in c:\\users\\mrmte\\appdata\\local\\programs\\python\\python311\\lib\\site-packages (from cohere<6.0,>=5.12.0->langchain-cohere) (0.28.1)\n",
      "Requirement already satisfied: httpx-sse==0.4.0 in c:\\users\\mrmte\\appdata\\local\\programs\\python\\python311\\lib\\site-packages (from cohere<6.0,>=5.12.0->langchain-cohere) (0.4.0)\n",
      "Requirement already satisfied: pydantic-core<3.0.0,>=2.18.2 in c:\\users\\mrmte\\appdata\\local\\programs\\python\\python311\\lib\\site-packages (from cohere<6.0,>=5.12.0->langchain-cohere) (2.33.1)\n",
      "Requirement already satisfied: requests<3.0.0,>=2.0.0 in c:\\users\\mrmte\\appdata\\local\\programs\\python\\python311\\lib\\site-packages (from cohere<6.0,>=5.12.0->langchain-cohere) (2.32.3)\n",
      "Requirement already satisfied: tokenizers<1,>=0.15 in c:\\users\\mrmte\\appdata\\local\\programs\\python\\python311\\lib\\site-packages (from cohere<6.0,>=5.12.0->langchain-cohere) (0.21.1)\n",
      "Requirement already satisfied: types-requests<3.0.0,>=2.0.0 in c:\\users\\mrmte\\appdata\\local\\programs\\python\\python311\\lib\\site-packages (from cohere<6.0,>=5.12.0->langchain-cohere) (2.32.0.20250328)\n",
      "Requirement already satisfied: typing_extensions>=4.0.0 in c:\\users\\mrmte\\appdata\\local\\programs\\python\\python311\\lib\\site-packages (from cohere<6.0,>=5.12.0->langchain-cohere) (4.13.1)\n",
      "Requirement already satisfied: langchain<1.0.0,>=0.3.23 in c:\\users\\mrmte\\appdata\\local\\programs\\python\\python311\\lib\\site-packages (from langchain-community<0.4.0,>=0.3.0->langchain-cohere) (0.3.23)\n",
      "Requirement already satisfied: SQLAlchemy<3,>=1.4 in c:\\users\\mrmte\\appdata\\local\\programs\\python\\python311\\lib\\site-packages (from langchain-community<0.4.0,>=0.3.0->langchain-cohere) (2.0.40)\n",
      "Requirement already satisfied: PyYAML>=5.3 in c:\\users\\mrmte\\appdata\\local\\programs\\python\\python311\\lib\\site-packages (from langchain-community<0.4.0,>=0.3.0->langchain-cohere) (6.0.2)\n",
      "Requirement already satisfied: aiohttp<4.0.0,>=3.8.3 in c:\\users\\mrmte\\appdata\\local\\programs\\python\\python311\\lib\\site-packages (from langchain-community<0.4.0,>=0.3.0->langchain-cohere) (3.11.16)\n",
      "Requirement already satisfied: tenacity!=8.4.0,<10,>=8.1.0 in c:\\users\\mrmte\\appdata\\local\\programs\\python\\python311\\lib\\site-packages (from langchain-community<0.4.0,>=0.3.0->langchain-cohere) (9.1.2)\n",
      "Requirement already satisfied: dataclasses-json<0.7,>=0.5.7 in c:\\users\\mrmte\\appdata\\local\\programs\\python\\python311\\lib\\site-packages (from langchain-community<0.4.0,>=0.3.0->langchain-cohere) (0.6.7)\n",
      "Requirement already satisfied: pydantic-settings<3.0.0,>=2.4.0 in c:\\users\\mrmte\\appdata\\local\\programs\\python\\python311\\lib\\site-packages (from langchain-community<0.4.0,>=0.3.0->langchain-cohere) (2.8.1)\n",
      "Requirement already satisfied: langsmith<0.4,>=0.1.125 in c:\\users\\mrmte\\appdata\\local\\programs\\python\\python311\\lib\\site-packages (from langchain-community<0.4.0,>=0.3.0->langchain-cohere) (0.3.30)\n",
      "Requirement already satisfied: numpy<3,>=1.26.2 in c:\\users\\mrmte\\appdata\\local\\programs\\python\\python311\\lib\\site-packages (from langchain-community<0.4.0,>=0.3.0->langchain-cohere) (1.26.4)\n",
      "Requirement already satisfied: jsonpatch<2.0,>=1.33 in c:\\users\\mrmte\\appdata\\local\\programs\\python\\python311\\lib\\site-packages (from langchain-core<0.4.0,>=0.3.27->langchain-cohere) (1.33)\n",
      "Requirement already satisfied: packaging<25,>=23.2 in c:\\users\\mrmte\\appdata\\local\\programs\\python\\python311\\lib\\site-packages (from langchain-core<0.4.0,>=0.3.27->langchain-cohere) (24.2)\n",
      "Requirement already satisfied: annotated-types>=0.6.0 in c:\\users\\mrmte\\appdata\\local\\programs\\python\\python311\\lib\\site-packages (from pydantic<3,>=2->langchain-cohere) (0.7.0)\n",
      "Requirement already satisfied: typing-inspection>=0.4.0 in c:\\users\\mrmte\\appdata\\local\\programs\\python\\python311\\lib\\site-packages (from pydantic<3,>=2->langchain-cohere) (0.4.0)\n",
      "Requirement already satisfied: aiohappyeyeballs>=2.3.0 in c:\\users\\mrmte\\appdata\\local\\programs\\python\\python311\\lib\\site-packages (from aiohttp<4.0.0,>=3.8.3->langchain-community<0.4.0,>=0.3.0->langchain-cohere) (2.6.1)\n",
      "Requirement already satisfied: aiosignal>=1.1.2 in c:\\users\\mrmte\\appdata\\local\\programs\\python\\python311\\lib\\site-packages (from aiohttp<4.0.0,>=3.8.3->langchain-community<0.4.0,>=0.3.0->langchain-cohere) (1.3.2)\n",
      "Requirement already satisfied: attrs>=17.3.0 in c:\\users\\mrmte\\appdata\\local\\programs\\python\\python311\\lib\\site-packages (from aiohttp<4.0.0,>=3.8.3->langchain-community<0.4.0,>=0.3.0->langchain-cohere) (25.3.0)\n",
      "Requirement already satisfied: frozenlist>=1.1.1 in c:\\users\\mrmte\\appdata\\local\\programs\\python\\python311\\lib\\site-packages (from aiohttp<4.0.0,>=3.8.3->langchain-community<0.4.0,>=0.3.0->langchain-cohere) (1.5.0)\n",
      "Requirement already satisfied: multidict<7.0,>=4.5 in c:\\users\\mrmte\\appdata\\local\\programs\\python\\python311\\lib\\site-packages (from aiohttp<4.0.0,>=3.8.3->langchain-community<0.4.0,>=0.3.0->langchain-cohere) (6.2.0)\n",
      "Requirement already satisfied: propcache>=0.2.0 in c:\\users\\mrmte\\appdata\\local\\programs\\python\\python311\\lib\\site-packages (from aiohttp<4.0.0,>=3.8.3->langchain-community<0.4.0,>=0.3.0->langchain-cohere) (0.3.1)\n",
      "Requirement already satisfied: yarl<2.0,>=1.17.0 in c:\\users\\mrmte\\appdata\\local\\programs\\python\\python311\\lib\\site-packages (from aiohttp<4.0.0,>=3.8.3->langchain-community<0.4.0,>=0.3.0->langchain-cohere) (1.19.0)\n",
      "Requirement already satisfied: marshmallow<4.0.0,>=3.18.0 in c:\\users\\mrmte\\appdata\\local\\programs\\python\\python311\\lib\\site-packages (from dataclasses-json<0.7,>=0.5.7->langchain-community<0.4.0,>=0.3.0->langchain-cohere) (3.26.1)\n",
      "Requirement already satisfied: typing-inspect<1,>=0.4.0 in c:\\users\\mrmte\\appdata\\local\\programs\\python\\python311\\lib\\site-packages (from dataclasses-json<0.7,>=0.5.7->langchain-community<0.4.0,>=0.3.0->langchain-cohere) (0.9.0)\n",
      "Requirement already satisfied: anyio in c:\\users\\mrmte\\appdata\\local\\programs\\python\\python311\\lib\\site-packages (from httpx>=0.21.2->cohere<6.0,>=5.12.0->langchain-cohere) (4.9.0)\n",
      "Requirement already satisfied: certifi in c:\\users\\mrmte\\appdata\\local\\programs\\python\\python311\\lib\\site-packages (from httpx>=0.21.2->cohere<6.0,>=5.12.0->langchain-cohere) (2025.1.31)\n",
      "Requirement already satisfied: httpcore==1.* in c:\\users\\mrmte\\appdata\\local\\programs\\python\\python311\\lib\\site-packages (from httpx>=0.21.2->cohere<6.0,>=5.12.0->langchain-cohere) (1.0.7)\n",
      "Requirement already satisfied: idna in c:\\users\\mrmte\\appdata\\local\\programs\\python\\python311\\lib\\site-packages (from httpx>=0.21.2->cohere<6.0,>=5.12.0->langchain-cohere) (3.10)\n",
      "Requirement already satisfied: h11<0.15,>=0.13 in c:\\users\\mrmte\\appdata\\local\\programs\\python\\python311\\lib\\site-packages (from httpcore==1.*->httpx>=0.21.2->cohere<6.0,>=5.12.0->langchain-cohere) (0.14.0)\n",
      "Requirement already satisfied: jsonpointer>=1.9 in c:\\users\\mrmte\\appdata\\local\\programs\\python\\python311\\lib\\site-packages (from jsonpatch<2.0,>=1.33->langchain-core<0.4.0,>=0.3.27->langchain-cohere) (3.0.0)\n",
      "Requirement already satisfied: langchain-text-splitters<1.0.0,>=0.3.8 in c:\\users\\mrmte\\appdata\\local\\programs\\python\\python311\\lib\\site-packages (from langchain<1.0.0,>=0.3.23->langchain-community<0.4.0,>=0.3.0->langchain-cohere) (0.3.8)\n",
      "Requirement already satisfied: orjson<4.0.0,>=3.9.14 in c:\\users\\mrmte\\appdata\\local\\programs\\python\\python311\\lib\\site-packages (from langsmith<0.4,>=0.1.125->langchain-community<0.4.0,>=0.3.0->langchain-cohere) (3.10.16)\n",
      "Requirement already satisfied: requests-toolbelt<2.0.0,>=1.0.0 in c:\\users\\mrmte\\appdata\\local\\programs\\python\\python311\\lib\\site-packages (from langsmith<0.4,>=0.1.125->langchain-community<0.4.0,>=0.3.0->langchain-cohere) (1.0.0)\n",
      "Requirement already satisfied: zstandard<0.24.0,>=0.23.0 in c:\\users\\mrmte\\appdata\\local\\programs\\python\\python311\\lib\\site-packages (from langsmith<0.4,>=0.1.125->langchain-community<0.4.0,>=0.3.0->langchain-cohere) (0.23.0)\n",
      "Requirement already satisfied: python-dotenv>=0.21.0 in c:\\users\\mrmte\\appdata\\local\\programs\\python\\python311\\lib\\site-packages (from pydantic-settings<3.0.0,>=2.4.0->langchain-community<0.4.0,>=0.3.0->langchain-cohere) (1.1.0)\n",
      "Requirement already satisfied: charset-normalizer<4,>=2 in c:\\users\\mrmte\\appdata\\local\\programs\\python\\python311\\lib\\site-packages (from requests<3.0.0,>=2.0.0->cohere<6.0,>=5.12.0->langchain-cohere) (3.4.1)\n",
      "Requirement already satisfied: urllib3<3,>=1.21.1 in c:\\users\\mrmte\\appdata\\local\\programs\\python\\python311\\lib\\site-packages (from requests<3.0.0,>=2.0.0->cohere<6.0,>=5.12.0->langchain-cohere) (2.3.0)\n",
      "Requirement already satisfied: greenlet>=1 in c:\\users\\mrmte\\appdata\\local\\programs\\python\\python311\\lib\\site-packages (from SQLAlchemy<3,>=1.4->langchain-community<0.4.0,>=0.3.0->langchain-cohere) (3.1.1)\n",
      "Requirement already satisfied: huggingface-hub<1.0,>=0.16.4 in c:\\users\\mrmte\\appdata\\local\\programs\\python\\python311\\lib\\site-packages (from tokenizers<1,>=0.15->cohere<6.0,>=5.12.0->langchain-cohere) (0.30.1)\n",
      "Requirement already satisfied: filelock in c:\\users\\mrmte\\appdata\\local\\programs\\python\\python311\\lib\\site-packages (from huggingface-hub<1.0,>=0.16.4->tokenizers<1,>=0.15->cohere<6.0,>=5.12.0->langchain-cohere) (3.18.0)\n",
      "Requirement already satisfied: fsspec>=2023.5.0 in c:\\users\\mrmte\\appdata\\local\\programs\\python\\python311\\lib\\site-packages (from huggingface-hub<1.0,>=0.16.4->tokenizers<1,>=0.15->cohere<6.0,>=5.12.0->langchain-cohere) (2025.3.2)\n",
      "Requirement already satisfied: tqdm>=4.42.1 in c:\\users\\mrmte\\appdata\\local\\programs\\python\\python311\\lib\\site-packages (from huggingface-hub<1.0,>=0.16.4->tokenizers<1,>=0.15->cohere<6.0,>=5.12.0->langchain-cohere) (4.67.1)\n",
      "Requirement already satisfied: mypy-extensions>=0.3.0 in c:\\users\\mrmte\\appdata\\local\\programs\\python\\python311\\lib\\site-packages (from typing-inspect<1,>=0.4.0->dataclasses-json<0.7,>=0.5.7->langchain-community<0.4.0,>=0.3.0->langchain-cohere) (1.0.0)\n",
      "Requirement already satisfied: sniffio>=1.1 in c:\\users\\mrmte\\appdata\\local\\programs\\python\\python311\\lib\\site-packages (from anyio->httpx>=0.21.2->cohere<6.0,>=5.12.0->langchain-cohere) (1.3.1)\n",
      "Requirement already satisfied: colorama in c:\\users\\mrmte\\appdata\\local\\programs\\python\\python311\\lib\\site-packages (from tqdm>=4.42.1->huggingface-hub<1.0,>=0.16.4->tokenizers<1,>=0.15->cohere<6.0,>=5.12.0->langchain-cohere) (0.4.6)\n"
     ]
    },
    {
     "name": "stderr",
     "output_type": "stream",
     "text": [
      "\n",
      "[notice] A new release of pip available: 22.3 -> 25.0.1\n",
      "[notice] To update, run: C:\\Users\\mrmte\\AppData\\Local\\Programs\\Python\\Python311\\python.exe -m pip install --upgrade pip\n"
     ]
    }
   ],
   "source": [
    "! pip install langchain-cohere"
   ]
  },
  {
   "cell_type": "code",
   "execution_count": 21,
   "id": "870c873e",
   "metadata": {},
   "outputs": [
    {
     "name": "stdout",
     "output_type": "stream",
     "text": [
      "Name: langchain-cohere\n",
      "Version: 0.4.4\n",
      "Summary: An integration package connecting Cohere and LangChain\n",
      "Home-page: https://github.com/langchain-ai/langchain-cohere\n",
      "Author: \n",
      "Author-email: \n",
      "License: MIT\n",
      "Location: C:\\Users\\mrmte\\AppData\\Local\\Programs\\Python\\Python311\\Lib\\site-packages\n",
      "Requires: cohere, langchain-community, langchain-core, pydantic, types-pyyaml\n",
      "Required-by: \n"
     ]
    }
   ],
   "source": [
    "! pip show langchain-cohere"
   ]
  },
  {
   "cell_type": "code",
   "execution_count": 22,
   "id": "6b870980",
   "metadata": {},
   "outputs": [
    {
     "name": "stdout",
     "output_type": "stream",
     "text": [
      "c:\\Users\\mrmte\\AppData\\Local\\Programs\\Python\\Python310\\python.exe\n"
     ]
    }
   ],
   "source": [
    "import sys\n",
    "print(sys.executable)"
   ]
  },
  {
   "cell_type": "code",
   "execution_count": 23,
   "id": "f0b8a853",
   "metadata": {},
   "outputs": [
    {
     "name": "stdout",
     "output_type": "stream",
     "text": [
      "Requirement already satisfied: langchain-cohere in c:\\users\\mrmte\\appdata\\local\\programs\\python\\python310\\lib\\site-packages (0.4.4)\n",
      "Requirement already satisfied: cohere<6.0,>=5.12.0 in c:\\users\\mrmte\\appdata\\local\\programs\\python\\python310\\lib\\site-packages (from langchain-cohere) (5.14.2)\n",
      "Requirement already satisfied: langchain-community<0.4.0,>=0.3.0 in c:\\users\\mrmte\\appdata\\local\\programs\\python\\python310\\lib\\site-packages (from langchain-cohere) (0.3.2)\n",
      "Requirement already satisfied: langchain-core<0.4.0,>=0.3.27 in c:\\users\\mrmte\\appdata\\local\\programs\\python\\python310\\lib\\site-packages (from langchain-cohere) (0.3.51)\n",
      "Requirement already satisfied: pydantic<3,>=2 in c:\\users\\mrmte\\appdata\\local\\programs\\python\\python310\\lib\\site-packages (from langchain-cohere) (2.9.2)\n",
      "Requirement already satisfied: types-pyyaml<7.0.0.0,>=6.0.12.20240917 in c:\\users\\mrmte\\appdata\\local\\programs\\python\\python310\\lib\\site-packages (from langchain-cohere) (6.0.12.20241221)\n",
      "Requirement already satisfied: fastavro<2.0.0,>=1.9.4 in c:\\users\\mrmte\\appdata\\local\\programs\\python\\python310\\lib\\site-packages (from cohere<6.0,>=5.12.0->langchain-cohere) (1.9.7)\n",
      "Requirement already satisfied: httpx>=0.21.2 in c:\\users\\mrmte\\appdata\\local\\programs\\python\\python310\\lib\\site-packages (from cohere<6.0,>=5.12.0->langchain-cohere) (0.27.2)\n",
      "Requirement already satisfied: httpx-sse==0.4.0 in c:\\users\\mrmte\\appdata\\local\\programs\\python\\python310\\lib\\site-packages (from cohere<6.0,>=5.12.0->langchain-cohere) (0.4.0)\n",
      "Requirement already satisfied: pydantic-core<3.0.0,>=2.18.2 in c:\\users\\mrmte\\appdata\\local\\programs\\python\\python310\\lib\\site-packages (from cohere<6.0,>=5.12.0->langchain-cohere) (2.23.4)\n",
      "Requirement already satisfied: requests<3.0.0,>=2.0.0 in c:\\users\\mrmte\\appdata\\local\\programs\\python\\python310\\lib\\site-packages (from cohere<6.0,>=5.12.0->langchain-cohere) (2.32.3)\n",
      "Requirement already satisfied: tokenizers<1,>=0.15 in c:\\users\\mrmte\\appdata\\local\\programs\\python\\python310\\lib\\site-packages (from cohere<6.0,>=5.12.0->langchain-cohere) (0.20.1)\n",
      "Requirement already satisfied: types-requests<3.0.0,>=2.0.0 in c:\\users\\mrmte\\appdata\\local\\programs\\python\\python310\\lib\\site-packages (from cohere<6.0,>=5.12.0->langchain-cohere) (2.32.0.20241016)\n",
      "Requirement already satisfied: typing_extensions>=4.0.0 in c:\\users\\mrmte\\appdata\\roaming\\python\\python310\\site-packages (from cohere<6.0,>=5.12.0->langchain-cohere) (4.12.2)\n",
      "Requirement already satisfied: PyYAML>=5.3 in c:\\users\\mrmte\\appdata\\local\\programs\\python\\python310\\lib\\site-packages (from langchain-community<0.4.0,>=0.3.0->langchain-cohere) (6.0.2)\n",
      "Requirement already satisfied: SQLAlchemy<3,>=1.4 in c:\\users\\mrmte\\appdata\\local\\programs\\python\\python310\\lib\\site-packages (from langchain-community<0.4.0,>=0.3.0->langchain-cohere) (2.0.36)\n",
      "Requirement already satisfied: aiohttp<4.0.0,>=3.8.3 in c:\\users\\mrmte\\appdata\\local\\programs\\python\\python310\\lib\\site-packages (from langchain-community<0.4.0,>=0.3.0->langchain-cohere) (3.10.10)\n",
      "Requirement already satisfied: dataclasses-json<0.7,>=0.5.7 in c:\\users\\mrmte\\appdata\\local\\programs\\python\\python310\\lib\\site-packages (from langchain-community<0.4.0,>=0.3.0->langchain-cohere) (0.6.7)\n",
      "Requirement already satisfied: langchain<0.4.0,>=0.3.3 in c:\\users\\mrmte\\appdata\\local\\programs\\python\\python310\\lib\\site-packages (from langchain-community<0.4.0,>=0.3.0->langchain-cohere) (0.3.3)\n",
      "Requirement already satisfied: langsmith<0.2.0,>=0.1.125 in c:\\users\\mrmte\\appdata\\local\\programs\\python\\python310\\lib\\site-packages (from langchain-community<0.4.0,>=0.3.0->langchain-cohere) (0.1.135)\n",
      "Requirement already satisfied: numpy<2,>=1 in c:\\users\\mrmte\\appdata\\local\\programs\\python\\python310\\lib\\site-packages (from langchain-community<0.4.0,>=0.3.0->langchain-cohere) (1.26.4)\n",
      "Requirement already satisfied: pydantic-settings<3.0.0,>=2.4.0 in c:\\users\\mrmte\\appdata\\local\\programs\\python\\python310\\lib\\site-packages (from langchain-community<0.4.0,>=0.3.0->langchain-cohere) (2.5.2)\n",
      "Requirement already satisfied: tenacity!=8.4.0,<9.0.0,>=8.1.0 in c:\\users\\mrmte\\appdata\\local\\programs\\python\\python310\\lib\\site-packages (from langchain-community<0.4.0,>=0.3.0->langchain-cohere) (8.5.0)\n",
      "Requirement already satisfied: jsonpatch<2.0,>=1.33 in c:\\users\\mrmte\\appdata\\local\\programs\\python\\python310\\lib\\site-packages (from langchain-core<0.4.0,>=0.3.27->langchain-cohere) (1.33)\n",
      "Requirement already satisfied: packaging<25,>=23.2 in c:\\users\\mrmte\\appdata\\local\\programs\\python\\python310\\lib\\site-packages (from langchain-core<0.4.0,>=0.3.27->langchain-cohere) (24.2)\n",
      "Requirement already satisfied: annotated-types>=0.6.0 in c:\\users\\mrmte\\appdata\\local\\programs\\python\\python310\\lib\\site-packages (from pydantic<3,>=2->langchain-cohere) (0.7.0)\n",
      "Requirement already satisfied: aiohappyeyeballs>=2.3.0 in c:\\users\\mrmte\\appdata\\local\\programs\\python\\python310\\lib\\site-packages (from aiohttp<4.0.0,>=3.8.3->langchain-community<0.4.0,>=0.3.0->langchain-cohere) (2.4.3)\n",
      "Requirement already satisfied: aiosignal>=1.1.2 in c:\\users\\mrmte\\appdata\\local\\programs\\python\\python310\\lib\\site-packages (from aiohttp<4.0.0,>=3.8.3->langchain-community<0.4.0,>=0.3.0->langchain-cohere) (1.3.1)\n",
      "Requirement already satisfied: attrs>=17.3.0 in c:\\users\\mrmte\\appdata\\local\\programs\\python\\python310\\lib\\site-packages (from aiohttp<4.0.0,>=3.8.3->langchain-community<0.4.0,>=0.3.0->langchain-cohere) (23.2.0)\n",
      "Requirement already satisfied: frozenlist>=1.1.1 in c:\\users\\mrmte\\appdata\\local\\programs\\python\\python310\\lib\\site-packages (from aiohttp<4.0.0,>=3.8.3->langchain-community<0.4.0,>=0.3.0->langchain-cohere) (1.4.1)\n",
      "Requirement already satisfied: multidict<7.0,>=4.5 in c:\\users\\mrmte\\appdata\\local\\programs\\python\\python310\\lib\\site-packages (from aiohttp<4.0.0,>=3.8.3->langchain-community<0.4.0,>=0.3.0->langchain-cohere) (6.1.0)\n",
      "Requirement already satisfied: yarl<2.0,>=1.12.0 in c:\\users\\mrmte\\appdata\\local\\programs\\python\\python310\\lib\\site-packages (from aiohttp<4.0.0,>=3.8.3->langchain-community<0.4.0,>=0.3.0->langchain-cohere) (1.15.3)\n",
      "Requirement already satisfied: async-timeout<5.0,>=4.0 in c:\\users\\mrmte\\appdata\\local\\programs\\python\\python310\\lib\\site-packages (from aiohttp<4.0.0,>=3.8.3->langchain-community<0.4.0,>=0.3.0->langchain-cohere) (4.0.3)\n",
      "Requirement already satisfied: marshmallow<4.0.0,>=3.18.0 in c:\\users\\mrmte\\appdata\\local\\programs\\python\\python310\\lib\\site-packages (from dataclasses-json<0.7,>=0.5.7->langchain-community<0.4.0,>=0.3.0->langchain-cohere) (3.22.0)\n",
      "Requirement already satisfied: typing-inspect<1,>=0.4.0 in c:\\users\\mrmte\\appdata\\local\\programs\\python\\python310\\lib\\site-packages (from dataclasses-json<0.7,>=0.5.7->langchain-community<0.4.0,>=0.3.0->langchain-cohere) (0.9.0)\n",
      "Requirement already satisfied: anyio in c:\\users\\mrmte\\appdata\\local\\programs\\python\\python310\\lib\\site-packages (from httpx>=0.21.2->cohere<6.0,>=5.12.0->langchain-cohere) (4.6.0)\n",
      "Requirement already satisfied: certifi in c:\\users\\mrmte\\appdata\\local\\programs\\python\\python310\\lib\\site-packages (from httpx>=0.21.2->cohere<6.0,>=5.12.0->langchain-cohere) (2024.8.30)\n",
      "Requirement already satisfied: httpcore==1.* in c:\\users\\mrmte\\appdata\\local\\programs\\python\\python310\\lib\\site-packages (from httpx>=0.21.2->cohere<6.0,>=5.12.0->langchain-cohere) (1.0.6)\n",
      "Requirement already satisfied: idna in c:\\users\\mrmte\\appdata\\local\\programs\\python\\python310\\lib\\site-packages (from httpx>=0.21.2->cohere<6.0,>=5.12.0->langchain-cohere) (3.10)\n",
      "Requirement already satisfied: sniffio in c:\\users\\mrmte\\appdata\\local\\programs\\python\\python310\\lib\\site-packages (from httpx>=0.21.2->cohere<6.0,>=5.12.0->langchain-cohere) (1.3.1)\n",
      "Requirement already satisfied: h11<0.15,>=0.13 in c:\\users\\mrmte\\appdata\\local\\programs\\python\\python310\\lib\\site-packages (from httpcore==1.*->httpx>=0.21.2->cohere<6.0,>=5.12.0->langchain-cohere) (0.14.0)\n",
      "Requirement already satisfied: jsonpointer>=1.9 in c:\\users\\mrmte\\appdata\\local\\programs\\python\\python310\\lib\\site-packages (from jsonpatch<2.0,>=1.33->langchain-core<0.4.0,>=0.3.27->langchain-cohere) (3.0.0)\n",
      "Requirement already satisfied: langchain-text-splitters<0.4.0,>=0.3.0 in c:\\users\\mrmte\\appdata\\local\\programs\\python\\python310\\lib\\site-packages (from langchain<0.4.0,>=0.3.3->langchain-community<0.4.0,>=0.3.0->langchain-cohere) (0.3.0)\n",
      "Requirement already satisfied: orjson<4.0.0,>=3.9.14 in c:\\users\\mrmte\\appdata\\local\\programs\\python\\python310\\lib\\site-packages (from langsmith<0.2.0,>=0.1.125->langchain-community<0.4.0,>=0.3.0->langchain-cohere) (3.10.7)\n",
      "Requirement already satisfied: requests-toolbelt<2.0.0,>=1.0.0 in c:\\users\\mrmte\\appdata\\local\\programs\\python\\python310\\lib\\site-packages (from langsmith<0.2.0,>=0.1.125->langchain-community<0.4.0,>=0.3.0->langchain-cohere) (1.0.0)\n",
      "Requirement already satisfied: python-dotenv>=0.21.0 in c:\\users\\mrmte\\appdata\\local\\programs\\python\\python310\\lib\\site-packages (from pydantic-settings<3.0.0,>=2.4.0->langchain-community<0.4.0,>=0.3.0->langchain-cohere) (1.0.1)\n",
      "Requirement already satisfied: charset-normalizer<4,>=2 in c:\\users\\mrmte\\appdata\\local\\programs\\python\\python310\\lib\\site-packages (from requests<3.0.0,>=2.0.0->cohere<6.0,>=5.12.0->langchain-cohere) (3.3.2)\n",
      "Requirement already satisfied: urllib3<3,>=1.21.1 in c:\\users\\mrmte\\appdata\\local\\programs\\python\\python310\\lib\\site-packages (from requests<3.0.0,>=2.0.0->cohere<6.0,>=5.12.0->langchain-cohere) (2.2.3)\n",
      "Requirement already satisfied: greenlet!=0.4.17 in c:\\users\\mrmte\\appdata\\local\\programs\\python\\python310\\lib\\site-packages (from SQLAlchemy<3,>=1.4->langchain-community<0.4.0,>=0.3.0->langchain-cohere) (3.1.1)\n",
      "Requirement already satisfied: huggingface-hub<1.0,>=0.16.4 in c:\\users\\mrmte\\appdata\\local\\programs\\python\\python310\\lib\\site-packages (from tokenizers<1,>=0.15->cohere<6.0,>=5.12.0->langchain-cohere) (0.25.2)\n",
      "Requirement already satisfied: filelock in c:\\users\\mrmte\\appdata\\local\\programs\\python\\python310\\lib\\site-packages (from huggingface-hub<1.0,>=0.16.4->tokenizers<1,>=0.15->cohere<6.0,>=5.12.0->langchain-cohere) (3.16.1)\n",
      "Requirement already satisfied: fsspec>=2023.5.0 in c:\\users\\mrmte\\appdata\\local\\programs\\python\\python310\\lib\\site-packages (from huggingface-hub<1.0,>=0.16.4->tokenizers<1,>=0.15->cohere<6.0,>=5.12.0->langchain-cohere) (2024.9.0)\n",
      "Requirement already satisfied: tqdm>=4.42.1 in c:\\users\\mrmte\\appdata\\local\\programs\\python\\python310\\lib\\site-packages (from huggingface-hub<1.0,>=0.16.4->tokenizers<1,>=0.15->cohere<6.0,>=5.12.0->langchain-cohere) (4.66.5)\n",
      "Requirement already satisfied: mypy-extensions>=0.3.0 in c:\\users\\mrmte\\appdata\\local\\programs\\python\\python310\\lib\\site-packages (from typing-inspect<1,>=0.4.0->dataclasses-json<0.7,>=0.5.7->langchain-community<0.4.0,>=0.3.0->langchain-cohere) (1.0.0)\n",
      "Requirement already satisfied: propcache>=0.2.0 in c:\\users\\mrmte\\appdata\\local\\programs\\python\\python310\\lib\\site-packages (from yarl<2.0,>=1.12.0->aiohttp<4.0.0,>=3.8.3->langchain-community<0.4.0,>=0.3.0->langchain-cohere) (0.2.0)\n",
      "Requirement already satisfied: exceptiongroup>=1.0.2 in c:\\users\\mrmte\\appdata\\roaming\\python\\python310\\site-packages (from anyio->httpx>=0.21.2->cohere<6.0,>=5.12.0->langchain-cohere) (1.2.2)\n",
      "Requirement already satisfied: colorama in c:\\users\\mrmte\\appdata\\roaming\\python\\python310\\site-packages (from tqdm>=4.42.1->huggingface-hub<1.0,>=0.16.4->tokenizers<1,>=0.15->cohere<6.0,>=5.12.0->langchain-cohere) (0.4.6)\n"
     ]
    },
    {
     "name": "stderr",
     "output_type": "stream",
     "text": [
      "WARNING: Ignoring invalid distribution -atplotlib (c:\\users\\mrmte\\appdata\\local\\programs\\python\\python310\\lib\\site-packages)\n",
      "WARNING: Ignoring invalid distribution -atplotlib (c:\\users\\mrmte\\appdata\\local\\programs\\python\\python310\\lib\\site-packages)\n",
      "WARNING: Ignoring invalid distribution -atplotlib (c:\\users\\mrmte\\appdata\\local\\programs\\python\\python310\\lib\\site-packages)\n",
      "\n",
      "[notice] A new release of pip is available: 24.3.1 -> 25.0.1\n",
      "[notice] To update, run: python.exe -m pip install --upgrade pip\n"
     ]
    }
   ],
   "source": [
    "! c:\\Users\\mrmte\\AppData\\Local\\Programs\\Python\\Python310\\python.exe -m pip install langchain-cohere"
   ]
  },
  {
   "cell_type": "code",
   "execution_count": 24,
   "id": "5b536b85",
   "metadata": {},
   "outputs": [],
   "source": [
    "import fitz  # PyMuPDF\n",
    "from langchain.text_splitter import RecursiveCharacterTextSplitter\n",
    "from langchain_core.documents import Document\n",
    "from langchain_cohere import CohereEmbeddings\n",
    "from langchain_community.vectorstores import Pinecone as Pinecone_Langchain\n",
    "import os\n",
    "import getpass\n",
    "from pinecone import Pinecone\n",
    "import time"
   ]
  },
  {
   "cell_type": "code",
   "execution_count": 26,
   "id": "006ac2e0",
   "metadata": {},
   "outputs": [
    {
     "name": "stdout",
     "output_type": "stream",
     "text": [
      "Number of chunks: 278\n",
      "Uploading batch 1 / 6\n",
      "Uploading batch 2 / 6\n",
      "Uploading batch 3 / 6\n",
      "Uploading batch 4 / 6\n",
      "Uploading batch 5 / 6\n",
      "Uploading batch 6 / 6\n",
      "✅ All documents uploaded successfully to Pinecone.\n"
     ]
    }
   ],
   "source": [
    "\n",
    "\n",
    "# === Load and extract text from PDF ===\n",
    "doc = fitz.open(\"C:/Users/mrmte/Documents/2CS_IASD/S2/ai-mental-health-therapist-app/backend/gaze-tracking/data/2021-Review_of_eye_tracking_metrics_involved_in_emotional_and_cognitive_processes.pdf\")\n",
    "\n",
    "text = \"\"\n",
    "for page in doc:\n",
    "    text += page.get_text()\n",
    "\n",
    "# === Split text into chunks ===\n",
    "text_splitter = RecursiveCharacterTextSplitter(\n",
    "    chunk_size=500,\n",
    "    chunk_overlap=50,\n",
    "    separators=[\"\\n\\n\", \"\\n\", \" \", \"\"]\n",
    ")\n",
    "chunks = text_splitter.split_text(text)\n",
    "print(f\"Number of chunks: {len(chunks)}\")\n",
    "\n",
    "# === Create LangChain Document objects ===\n",
    "documents = [\n",
    "    Document(\n",
    "        page_content=chunk,\n",
    "        metadata={\n",
    "            \"Title\": \"Review of Eye Tracking Metrics Involved in Emotional and Cognitive Processes\",\n",
    "            \"Source\": \"https://www.researchgate.net/publication/350148971_Review_of_eye_tracking_metrics_involved_in_emotional_and_cognitive_processes\"\n",
    "        }\n",
    "    ) for chunk in chunks\n",
    "]\n",
    "\n",
    "# === Initialize Cohere embeddings (✅ with model name) ===\n",
    "embeddings = CohereEmbeddings(\n",
    "    cohere_api_key=cohere_secret_key,\n",
    "    model=\"embed-english-v2.0\",  # ✅ REQUIRED\n",
    "    user_agent=\"ai-agent\"\n",
    ")\n",
    "\n",
    "# === Upload to Pinecone in batches ===\n",
    "BATCH_SIZE = 50\n",
    "vector_store = None\n",
    "\n",
    "for i in range(0, len(documents), BATCH_SIZE):\n",
    "    batch_docs = documents[i:i + BATCH_SIZE]\n",
    "    print(f\"Uploading batch {i // BATCH_SIZE + 1} / {(len(documents) - 1) // BATCH_SIZE + 1}\")\n",
    "    \n",
    "    try:\n",
    "        if i == 0:\n",
    "            vector_store = Pinecone_Langchain.from_documents(\n",
    "                documents=batch_docs,\n",
    "                embedding=embeddings,\n",
    "                index_name=index\n",
    "            )\n",
    "        else:\n",
    "            vector_store.add_documents(batch_docs)\n",
    "    except Exception as e:\n",
    "        print(f\"⚠️ Error during batch {i // BATCH_SIZE + 1}: {str(e)}\")\n",
    "    \n",
    "    time.sleep(10)  # To avoid rate-limiting\n",
    "\n",
    "print(\"✅ All documents uploaded successfully to Pinecone.\")\n"
   ]
  },
  {
   "cell_type": "code",
   "execution_count": 27,
   "id": "197bd8da",
   "metadata": {},
   "outputs": [
    {
     "name": "stdout",
     "output_type": "stream",
     "text": [
      "Number of chunks: 87\n",
      "Uploading batch 1 / 2\n",
      "Uploading batch 2 / 2\n",
      "✅ All documents uploaded successfully to Pinecone.\n"
     ]
    }
   ],
   "source": [
    "\n",
    "\n",
    "# === Load and extract text from PDF ===\n",
    "doc = fitz.open(\"C:/Users/mrmte/Documents/2CS_IASD/S2/ai-mental-health-therapist-app/backend/gaze-tracking/data/Hershmanetal.EyeblinksJCognit2024.pdf\")\n",
    "\n",
    "text = \"\"\n",
    "for page in doc:\n",
    "    text += page.get_text()\n",
    "\n",
    "# === Split text into chunks ===\n",
    "text_splitter = RecursiveCharacterTextSplitter(\n",
    "    chunk_size=500,\n",
    "    chunk_overlap=50,\n",
    "    separators=[\"\\n\\n\", \"\\n\", \" \", \"\"]\n",
    ")\n",
    "chunks = text_splitter.split_text(text)\n",
    "print(f\"Number of chunks: {len(chunks)}\")\n",
    "\n",
    "# === Create LangChain Document objects ===\n",
    "documents = [\n",
    "    Document(\n",
    "        page_content=chunk,\n",
    "        metadata={\n",
    "            \"Title\": \"Insights from Eye Blinks into The Cognitive Processes Involved in Visual Word Recognition\",\n",
    "            \"Source\": \"https://www.researchgate.net/publication/376853077_Insights_from_Eye_Blinks_into_The_Cognitive_Processes_Involved_in_Visual_Word_Recognition\"\n",
    "        }\n",
    "    ) for chunk in chunks\n",
    "]\n",
    "\n",
    "# === Initialize Cohere embeddings (✅ with model name) ===\n",
    "embeddings = CohereEmbeddings(\n",
    "    cohere_api_key=cohere_secret_key,\n",
    "    model=\"embed-english-v2.0\",  # ✅ REQUIRED\n",
    "    user_agent=\"ai-agent\"\n",
    ")\n",
    "\n",
    "# === Upload to Pinecone in batches ===\n",
    "BATCH_SIZE = 50\n",
    "vector_store = None\n",
    "\n",
    "for i in range(0, len(documents), BATCH_SIZE):\n",
    "    batch_docs = documents[i:i + BATCH_SIZE]\n",
    "    print(f\"Uploading batch {i // BATCH_SIZE + 1} / {(len(documents) - 1) // BATCH_SIZE + 1}\")\n",
    "    \n",
    "    try:\n",
    "        if i == 0:\n",
    "            vector_store = Pinecone_Langchain.from_documents(\n",
    "                documents=batch_docs,\n",
    "                embedding=embeddings,\n",
    "                index_name=index\n",
    "            )\n",
    "        else:\n",
    "            vector_store.add_documents(batch_docs)\n",
    "    except Exception as e:\n",
    "        print(f\"⚠️ Error during batch {i // BATCH_SIZE + 1}: {str(e)}\")\n",
    "    \n",
    "    time.sleep(10)  # To avoid rate-limiting\n",
    "\n",
    "print(\"✅ All documents uploaded successfully to Pinecone.\")\n"
   ]
  },
  {
   "cell_type": "code",
   "execution_count": 28,
   "id": "5e38fba8",
   "metadata": {},
   "outputs": [
    {
     "name": "stdout",
     "output_type": "stream",
     "text": [
      "Number of chunks: 143\n",
      "Uploading batch 1 / 3\n",
      "Uploading batch 2 / 3\n",
      "Uploading batch 3 / 3\n",
      "✅ All documents uploaded successfully to Pinecone.\n"
     ]
    }
   ],
   "source": [
    "\n",
    "\n",
    "# === Load and extract text from PDF ===\n",
    "doc = fitz.open(\"C:/Users/mrmte/Documents/2CS_IASD/S2/ai-mental-health-therapist-app/backend/gaze-tracking/data/journal.pone.0250170.pdf\")\n",
    "\n",
    "text = \"\"\n",
    "for page in doc:\n",
    "    text += page.get_text()\n",
    "\n",
    "# === Split text into chunks ===\n",
    "text_splitter = RecursiveCharacterTextSplitter(\n",
    "    chunk_size=500,\n",
    "    chunk_overlap=50,\n",
    "    separators=[\"\\n\\n\", \"\\n\", \" \", \"\"]\n",
    ")\n",
    "chunks = text_splitter.split_text(text)\n",
    "print(f\"Number of chunks: {len(chunks)}\")\n",
    "\n",
    "# === Create LangChain Document objects ===\n",
    "documents = [\n",
    "    Document(\n",
    "        page_content=chunk,\n",
    "        metadata={\n",
    "            \"Title\": \"Introducing Point-of-Interest as an alternative to Area-of-Interest for fixation duration analysis\",\n",
    "            \"Source\": \"https://www.researchgate.net/publication/351471995_Introducing_Point-of-Interest_as_an_alternative_to_Area-of-Interest_for_fixation_duration_analysis\"\n",
    "        }\n",
    "    ) for chunk in chunks\n",
    "]\n",
    "\n",
    "# === Initialize Cohere embeddings (✅ with model name) ===\n",
    "embeddings = CohereEmbeddings(\n",
    "    cohere_api_key=cohere_secret_key,\n",
    "    model=\"embed-english-v2.0\",  # ✅ REQUIRED\n",
    "    user_agent=\"ai-agent\"\n",
    ")\n",
    "\n",
    "# === Upload to Pinecone in batches ===\n",
    "BATCH_SIZE = 50\n",
    "vector_store = None\n",
    "\n",
    "for i in range(0, len(documents), BATCH_SIZE):\n",
    "    batch_docs = documents[i:i + BATCH_SIZE]\n",
    "    print(f\"Uploading batch {i // BATCH_SIZE + 1} / {(len(documents) - 1) // BATCH_SIZE + 1}\")\n",
    "    \n",
    "    try:\n",
    "        if i == 0:\n",
    "            vector_store = Pinecone_Langchain.from_documents(\n",
    "                documents=batch_docs,\n",
    "                embedding=embeddings,\n",
    "                index_name=index\n",
    "            )\n",
    "        else:\n",
    "            vector_store.add_documents(batch_docs)\n",
    "    except Exception as e:\n",
    "        print(f\"⚠️ Error during batch {i // BATCH_SIZE + 1}: {str(e)}\")\n",
    "    \n",
    "    time.sleep(10)  # To avoid rate-limiting\n",
    "\n",
    "print(\"✅ All documents uploaded successfully to Pinecone.\")\n"
   ]
  },
  {
   "cell_type": "code",
   "execution_count": null,
   "id": "82a853f5",
   "metadata": {},
   "outputs": [
    {
     "name": "stdout",
     "output_type": "stream",
     "text": [
      "Number of chunks: 104\n",
      "Uploading batch 1 / 3\n",
      "Uploading batch 2 / 3\n",
      "Uploading batch 3 / 3\n",
      "✅ All documents uploaded successfully to Pinecone.\n"
     ]
    }
   ],
   "source": [
    "\n",
    "\n",
    "# === Load and extract text from PDF ===\n",
    "doc = fitz.open(\"C:/Users/mrmte/Documents/2CS_IASD/S2/ai-mental-health-therapist-app/backend/gaze-tracking/data/OrquinHolmqvist2019Aprimeroneyetracking.pdf\")\n",
    "\n",
    "text = \"\"\n",
    "for page in doc:\n",
    "    text += page.get_text()\n",
    "\n",
    "# === Split text into chunks ===\n",
    "text_splitter = RecursiveCharacterTextSplitter(\n",
    "    chunk_size=500,\n",
    "    chunk_overlap=50,\n",
    "    separators=[\"\\n\\n\", \"\\n\", \" \", \"\"]\n",
    ")\n",
    "chunks = text_splitter.split_text(text)\n",
    "print(f\"Number of chunks: {len(chunks)}\")\n",
    "\n",
    "# === Create LangChain Document objects ===\n",
    "documents = [\n",
    "    Document(\n",
    "        page_content=chunk,\n",
    "        metadata={\n",
    "            \"Title\": \"A Primer on Eye-Tracking Methodology for Behavioral Science\",\n",
    "            \"Source\": \"https://www.researchgate.net/publication/337603025_A_Primer_on_Eye_Tracking_Methodology_for_Behavioral_Sciences\"\n",
    "        }\n",
    "    ) for chunk in chunks\n",
    "]\n",
    "\n",
    "# === Initialize Cohere embeddings (✅ with model name) ===\n",
    "embeddings = CohereEmbeddings(\n",
    "    cohere_api_key=cohere_secret_key,\n",
    "    model=\"embed-english-v2.0\",  # ✅ REQUIRED\n",
    "    user_agent=\"ai-agent\"\n",
    ")\n",
    "\n",
    "# === Upload to Pinecone in batches ===\n",
    "BATCH_SIZE = 50\n",
    "vector_store = None\n",
    "\n",
    "for i in range(0, len(documents), BATCH_SIZE):\n",
    "    batch_docs = documents[i:i + BATCH_SIZE]\n",
    "    print(f\"Uploading batch {i // BATCH_SIZE + 1} / {(len(documents) - 1) // BATCH_SIZE + 1}\")\n",
    "    \n",
    "    try:\n",
    "        if i == 0:\n",
    "            vector_store = Pinecone_Langchain.from_documents(\n",
    "                documents=batch_docs,\n",
    "                embedding=embeddings,\n",
    "                index_name=index\n",
    "            )\n",
    "        else:\n",
    "            vector_store.add_documents(batch_docs)\n",
    "    except Exception as e:\n",
    "        print(f\"⚠️ Error during batch {i // BATCH_SIZE + 1}: {str(e)}\")\n",
    "    \n",
    "    time.sleep(10)  # To avoid rate-limiting\n",
    "\n",
    "print(\"✅ All documents uploaded successfully to Pinecone.\")\n"
   ]
  }
 ],
 "metadata": {
  "kernelspec": {
   "display_name": "Python 3",
   "language": "python",
   "name": "python3"
  },
  "language_info": {
   "codemirror_mode": {
    "name": "ipython",
    "version": 3
   },
   "file_extension": ".py",
   "mimetype": "text/x-python",
   "name": "python",
   "nbconvert_exporter": "python",
   "pygments_lexer": "ipython3",
   "version": "3.10.11"
  }
 },
 "nbformat": 4,
 "nbformat_minor": 5
}
